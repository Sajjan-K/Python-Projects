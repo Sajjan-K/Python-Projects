{
 "cells": [
  {
   "cell_type": "code",
   "execution_count": 1,
   "id": "a56a1ddb-0b9c-4211-ad80-080dfce0e077",
   "metadata": {},
   "outputs": [
    {
     "name": "stdout",
     "output_type": "stream",
     "text": [
      "Name:S.Surendra Sajjan Kumar\n",
      "USN: 1AY24BT045 \n",
      "Section: N\n",
      " \n",
      "Chance of a streak of 6 in 100 flips: 80.64%\n"
     ]
    }
   ],
   "source": [
    "print('Name:S.Surendra Sajjan Kumar\\nUSN: 1AY24BT045 \\nSection: N\\n ')\n",
    "import random\n",
    "\n",
    "def coin_flip_streaks():\n",
    "    number_of_streaks = 0\n",
    "    total_simulations = 10000\n",
    "\n",
    "    for experiment in range(total_simulations):\n",
    "        flips = []\n",
    "        for i in range(100):\n",
    "            if random.randint(0, 1) == 0:\n",
    "                flips.append('H')\n",
    "            else:\n",
    "                flips.append('T')\n",
    "\n",
    "        streak_count = 1\n",
    "        for i in range(1, len(flips)):\n",
    "            if flips[i] == flips[i - 1]:\n",
    "                streak_count += 1\n",
    "                if streak_count == 6:\n",
    "                    number_of_streaks += 1\n",
    "                    break  \n",
    "            else:\n",
    "                streak_count = 1\n",
    "\n",
    "    print(f'Chance of a streak of 6 in 100 flips: {number_of_streaks / total_simulations * 100:.2f}%')\n",
    "\n",
    "coin_flip_streaks()"
   ]
  },
  {
   "cell_type": "code",
   "execution_count": null,
   "id": "e79a6c93-3170-4158-8864-cfb0e5769dac",
   "metadata": {},
   "outputs": [],
   "source": []
  }
 ],
 "metadata": {
  "kernelspec": {
   "display_name": "Python [conda env:base] *",
   "language": "python",
   "name": "conda-base-py"
  },
  "language_info": {
   "codemirror_mode": {
    "name": "ipython",
    "version": 3
   },
   "file_extension": ".py",
   "mimetype": "text/x-python",
   "name": "python",
   "nbconvert_exporter": "python",
   "pygments_lexer": "ipython3",
   "version": "3.12.7"
  }
 },
 "nbformat": 4,
 "nbformat_minor": 5
}
