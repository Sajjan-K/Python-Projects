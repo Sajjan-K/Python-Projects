{
 "cells": [
  {
   "cell_type": "code",
   "execution_count": 1,
   "id": "06ffc6bd-d085-4eeb-a833-bae0dc443930",
   "metadata": {},
   "outputs": [
    {
     "name": "stdout",
     "output_type": "stream",
     "text": [
      "Name:S.Surendra Sajjan Kumar\n",
      "USN: 1AY24BT045 \n",
      "Section: N\n",
      " \n",
      "Inventory:\n",
      "45 gold coin\n",
      "1 rope\n",
      "6 torch\n",
      "2 dagger\n",
      "1 ruby\n",
      "Total number of items: 55\n",
      "\n"
     ]
    }
   ],
   "source": [
    "print('Name:S.Surendra Sajjan Kumar\\nUSN: 1AY24BT045 \\nSection: N\\n ')\n",
    "\n",
    "def display_inventory(inventory):\n",
    "    print(\"Inventory:\")\n",
    "    item_total = 0\n",
    "    for item, count in inventory.items():\n",
    "        print(f\"{count} {item}\")\n",
    "        item_total += count\n",
    "    print(f\"Total number of items: {item_total}\\n\")\n",
    "\n",
    "\n",
    "def add_to_inventory(inventory, added_items):\n",
    "    for item in added_items:\n",
    "        inventory[item] = inventory.get(item, 0) + 1\n",
    "    return inventory\n",
    "\n",
    "\n",
    "inventory = {'gold coin': 42,'rope': 1,'torch': 6,'dagger': 1}\n",
    "dragon_loot = ['gold coin', 'dagger', 'gold coin', 'gold coin', 'ruby']\n",
    "inventory = add_to_inventory(inventory, dragon_loot)\n",
    "display_inventory(inventory)"
   ]
  },
  {
   "cell_type": "code",
   "execution_count": null,
   "id": "b6d5f396-25fb-4013-abcf-bc552c30fec5",
   "metadata": {},
   "outputs": [],
   "source": []
  }
 ],
 "metadata": {
  "kernelspec": {
   "display_name": "Python [conda env:base] *",
   "language": "python",
   "name": "conda-base-py"
  },
  "language_info": {
   "codemirror_mode": {
    "name": "ipython",
    "version": 3
   },
   "file_extension": ".py",
   "mimetype": "text/x-python",
   "name": "python",
   "nbconvert_exporter": "python",
   "pygments_lexer": "ipython3",
   "version": "3.12.7"
  }
 },
 "nbformat": 4,
 "nbformat_minor": 5
}
