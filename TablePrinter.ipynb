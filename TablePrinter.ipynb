{
 "cells": [
  {
   "cell_type": "code",
   "execution_count": 1,
   "id": "9ad22e04-87b7-4b9f-bf43-80ff03c27721",
   "metadata": {},
   "outputs": [
    {
     "name": "stdout",
     "output_type": "stream",
     "text": [
      "Name:S.Surendra Sajjan Kumar\n",
      "USN: 1AY24BT045 \n",
      "Section: N\n",
      " \n",
      "+----------+-------+-------+\n",
      "|   apples | Alice |  dogs |\n",
      "+----------+-------+-------+\n",
      "|  oranges |   Bob |  cats |\n",
      "+----------+-------+-------+\n",
      "| cherries | Carol | moose |\n",
      "+----------+-------+-------+\n",
      "|   banana | David | goose |\n",
      "+----------+-------+-------+\n"
     ]
    }
   ],
   "source": [
    "print('Name:S.Surendra Sajjan Kumar\\nUSN: 1AY24BT045 \\nSection: N\\n ')\n",
    "\n",
    "def print_table_with_lines(table):\n",
    "    col_widths = [max(len(str(item)) for item in col) for col in table]\n",
    "    num_rows = len(table[0])\n",
    "    num_cols = len(table)\n",
    "\n",
    "    def print_border():\n",
    "        border = '+'\n",
    "        for width in col_widths:\n",
    "            border += '-' * (width + 2) + '+'\n",
    "        print(border)\n",
    "\n",
    "    for row in range(num_rows):\n",
    "        print_border()\n",
    "        row_line = '|'\n",
    "        for col in range(num_cols):\n",
    "            item = table[col][row]\n",
    "            row_line += f' {item.rjust(col_widths[col])} |'\n",
    "        print(row_line)\n",
    "    print_border()\n",
    "\n",
    "table_data = [\n",
    "    ['apples', 'oranges', 'cherries', 'banana'],\n",
    "    ['Alice', 'Bob', 'Carol', 'David'],\n",
    "    ['dogs', 'cats', 'moose', 'goose']\n",
    "]\n",
    "\n",
    "print_table_with_lines(table_data)"
   ]
  },
  {
   "cell_type": "code",
   "execution_count": null,
   "id": "949a290d-ed0b-4876-915e-58b083884c53",
   "metadata": {},
   "outputs": [],
   "source": []
  }
 ],
 "metadata": {
  "kernelspec": {
   "display_name": "Python [conda env:base] *",
   "language": "python",
   "name": "conda-base-py"
  },
  "language_info": {
   "codemirror_mode": {
    "name": "ipython",
    "version": 3
   },
   "file_extension": ".py",
   "mimetype": "text/x-python",
   "name": "python",
   "nbconvert_exporter": "python",
   "pygments_lexer": "ipython3",
   "version": "3.12.7"
  }
 },
 "nbformat": 4,
 "nbformat_minor": 5
}
