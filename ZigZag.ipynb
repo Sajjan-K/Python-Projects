{
 "cells": [
  {
   "cell_type": "code",
   "execution_count": 3,
   "id": "b43be1bb-6aad-4c86-8170-8f30fb4ec4da",
   "metadata": {},
   "outputs": [
    {
     "name": "stdout",
     "output_type": "stream",
     "text": [
      "Name:S.Surendra Sajjan Kumar\n",
      "USN: 1AY24BT045 \n",
      "Section: N\n",
      " \n",
      "*   *   *   *   *   \n",
      "  *   *   *   *   * \n",
      "*   *   *   *   *   \n",
      "  *   *   *   *   * \n",
      "*   *   *   *   *   \n"
     ]
    }
   ],
   "source": [
    "print('Name:S.Surendra Sajjan Kumar\\nUSN: 1AY24BT045 \\nSection: N\\n ')\n",
    "def print_zigzag(rows, cols):\n",
    "    \"\"\"Prints a zigzag pattern with the given number of rows and columns.\"\"\"\n",
    "    for i in range(rows):\n",
    "        for j in range(cols):\n",
    "            if (i + j) % 2 == 0:\n",
    "                print(\"*\", end=\" \")\n",
    "            else:\n",
    "                print(\" \", end=\" \")\n",
    "        print()\n",
    "\n",
    "print_zigzag(5, 10)"
   ]
  },
  {
   "cell_type": "code",
   "execution_count": null,
   "id": "fd494447-3da7-4f15-a355-4b37d345b277",
   "metadata": {},
   "outputs": [],
   "source": []
  }
 ],
 "metadata": {
  "kernelspec": {
   "display_name": "Python [conda env:base] *",
   "language": "python",
   "name": "conda-base-py"
  },
  "language_info": {
   "codemirror_mode": {
    "name": "ipython",
    "version": 3
   },
   "file_extension": ".py",
   "mimetype": "text/x-python",
   "name": "python",
   "nbconvert_exporter": "python",
   "pygments_lexer": "ipython3",
   "version": "3.12.7"
  }
 },
 "nbformat": 4,
 "nbformat_minor": 5
}
