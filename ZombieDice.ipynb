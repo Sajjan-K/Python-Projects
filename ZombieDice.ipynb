{
 "cells": [
  {
   "cell_type": "code",
   "execution_count": 1,
   "id": "26fc8384-faee-4037-812c-0c853ea19fe1",
   "metadata": {},
   "outputs": [
    {
     "name": "stdout",
     "output_type": "stream",
     "text": [
      "Name:S.Surendra Sajjan Kumar\n",
      "USN: 1AY24BT045 \n",
      "Section: N\n",
      " \n",
      "Rolling colour...\n",
      "Results: ['shotgun', 'shotgun', 'footprint', 'footprint', 'brain', 'footprint', 'footprint', 'brain', 'brain', 'brain', 'shotgun', 'footprint', 'shotgun']\n",
      "Count: {'brain': 4, 'shotgun': 4, 'footprint': 5}\n",
      "You got shotguns! Game over.\n",
      "Final score: 0\n"
     ]
    }
   ],
   "source": [
    "print('Name:S.Surendra Sajjan Kumar\\nUSN: 1AY24BT045 \\nSection: N\\n ')\n",
    "import random as ran\n",
    "import time\n",
    "dice={\n",
    "    'green':{\n",
    "        'brain':3,\n",
    "        'shotgun':1,\n",
    "        'footprint':2\n",
    "    },\n",
    "    'yellow':{\n",
    "        'brain':2,\n",
    "        'shotgun':2,\n",
    "        'footprint':2\n",
    "    },\n",
    "    'red':{\n",
    "        'brain':1,\n",
    "        'shotgun':3,\n",
    "        'footprint':2\n",
    "    }\n",
    "}\n",
    "cup=['green','green','green','green','green','green','yellow','yellow','yellow','yellow','red','red','red']\n",
    "def roll(colour):\n",
    "    result = []\n",
    "    for die in colour:\n",
    "        result.append(ran.choice(list(dice[die].keys())))\n",
    "    return result\n",
    "def count_results(results):\n",
    "    count = {\n",
    "        'brain': 0,\n",
    "        'shotgun': 0,\n",
    "        'footprint': 0\n",
    "    }\n",
    "    for result in results:\n",
    "        count[result] += 1\n",
    "    return count\n",
    "def play_game():\n",
    "    score = 0\n",
    "    while True:\n",
    "        print(\"Rolling colour...\")\n",
    "        results = roll(cup)\n",
    "        print(\"Results:\", results)\n",
    "        count = count_results(results)\n",
    "        print(\"Count:\", count)\n",
    "        if count['shotgun'] >= 3:\n",
    "            print(\"You got shotguns! Game over.\")\n",
    "            break\n",
    "        score += count['brain']\n",
    "        print(\"Current score:\", score)\n",
    "        if input(\"Do you want to roll again? (y/n)\") != 'y':\n",
    "            break\n",
    "    print(\"Final score:\", score)\n",
    "play_game()"
   ]
  },
  {
   "cell_type": "code",
   "execution_count": null,
   "id": "f91325bd-90ce-4fa1-9650-4b039bdce895",
   "metadata": {},
   "outputs": [],
   "source": []
  }
 ],
 "metadata": {
  "kernelspec": {
   "display_name": "Python [conda env:base] *",
   "language": "python",
   "name": "conda-base-py"
  },
  "language_info": {
   "codemirror_mode": {
    "name": "ipython",
    "version": 3
   },
   "file_extension": ".py",
   "mimetype": "text/x-python",
   "name": "python",
   "nbconvert_exporter": "python",
   "pygments_lexer": "ipython3",
   "version": "3.12.7"
  }
 },
 "nbformat": 4,
 "nbformat_minor": 5
}
