{
 "cells": [
  {
   "cell_type": "code",
   "execution_count": 1,
   "id": "f59ef07e-a050-4a92-96dd-569e2da05cdc",
   "metadata": {},
   "outputs": [
    {
     "name": "stdout",
     "output_type": "stream",
     "text": [
      "Name:S.Surendra Sajjan Kumar\n",
      "USN: 1AY24BT045 \n",
      "Section: N\n",
      " \n",
      "Welcome to Rock, Paper, Scissors!\n"
     ]
    },
    {
     "name": "stdin",
     "output_type": "stream",
     "text": [
      "Choose rock, paper, or scissors (or 'quit' to exit):  paper\n"
     ]
    },
    {
     "name": "stdout",
     "output_type": "stream",
     "text": [
      "Computer chose: paper\n",
      "It's a tie!\n"
     ]
    },
    {
     "name": "stdin",
     "output_type": "stream",
     "text": [
      "Choose rock, paper, or scissors (or 'quit' to exit):  rock\n"
     ]
    },
    {
     "name": "stdout",
     "output_type": "stream",
     "text": [
      "Computer chose: paper\n",
      "You lose!\n"
     ]
    },
    {
     "name": "stdin",
     "output_type": "stream",
     "text": [
      "Choose rock, paper, or scissors (or 'quit' to exit):  quit\n"
     ]
    },
    {
     "name": "stdout",
     "output_type": "stream",
     "text": [
      "Thanks for playing!\n"
     ]
    }
   ],
   "source": [
    "print('Name:S.Surendra Sajjan Kumar\\nUSN: 1AY24BT045 \\nSection: N\\n ')\n",
    "import random\n",
    "\n",
    "def rock_paper_scissors():\n",
    "    choices = [\"rock\", \"paper\", \"scissors\"]\n",
    "    print(\"Welcome to Rock, Paper, Scissors!\")\n",
    "    \n",
    "    while True:\n",
    "        user_choice = input(\"Choose rock, paper, or scissors (or 'quit' to exit): \").lower()\n",
    "        if user_choice == \"quit\":\n",
    "            print(\"Thanks for playing!\")\n",
    "            break\n",
    "        if user_choice not in choices:\n",
    "            print(\"Invalid choice. Try again.\")\n",
    "            continue\n",
    "\n",
    "        computer_choice = random.choice(choices)\n",
    "        print(f\"Computer chose: {computer_choice}\")\n",
    "\n",
    "        if user_choice == computer_choice:\n",
    "            print(\"It's a tie!\")\n",
    "        elif (\n",
    "            (user_choice == \"rock\" and computer_choice == \"scissors\") or\n",
    "            (user_choice == \"paper\" and computer_choice == \"rock\") or\n",
    "            (user_choice == \"scissors\" and computer_choice == \"paper\")\n",
    "        ):\n",
    "            print(\"You win!\")\n",
    "        else:\n",
    "            print(\"You lose!\")\n",
    "\n",
    "rock_paper_scissors()"
   ]
  },
  {
   "cell_type": "code",
   "execution_count": null,
   "id": "c5e91a5d-6de2-4f69-bbca-dd746187bf66",
   "metadata": {},
   "outputs": [],
   "source": []
  }
 ],
 "metadata": {
  "kernelspec": {
   "display_name": "Python [conda env:base] *",
   "language": "python",
   "name": "conda-base-py"
  },
  "language_info": {
   "codemirror_mode": {
    "name": "ipython",
    "version": 3
   },
   "file_extension": ".py",
   "mimetype": "text/x-python",
   "name": "python",
   "nbconvert_exporter": "python",
   "pygments_lexer": "ipython3",
   "version": "3.12.7"
  }
 },
 "nbformat": 4,
 "nbformat_minor": 5
}
