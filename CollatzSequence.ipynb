{
 "cells": [
  {
   "cell_type": "code",
   "execution_count": 1,
   "id": "57db5d5c-dc8c-4a31-8136-0b745952b0ca",
   "metadata": {},
   "outputs": [
    {
     "name": "stdout",
     "output_type": "stream",
     "text": [
      "Name:S.Surendra Sajjan Kumar\n",
      "USN: 1AY24BT045 \n",
      "Section: N\n",
      " \n",
      "[12, 6, 3, 10, 5, 16, 8, 4, 2, 1]\n"
     ]
    }
   ],
   "source": [
    "print('Name:S.Surendra Sajjan Kumar\\nUSN: 1AY24BT045 \\nSection: N\\n ')\n",
    "def collatz_sequence(n):\n",
    "    \"\"\"Generates the Collatz sequence starting from n.\"\"\"\n",
    "    sequence = [n]\n",
    "    while n != 1:\n",
    "        if n % 2 == 0:\n",
    "            n = n // 2\n",
    "        else:\n",
    "            n = 3 * n + 1\n",
    "        sequence.append(n)\n",
    "    return sequence\n",
    "\n",
    "start_number = 12\n",
    "result = collatz_sequence(start_number)\n",
    "print(result)"
   ]
  },
  {
   "cell_type": "code",
   "execution_count": null,
   "id": "4f9b7639-c8af-4195-bdbd-21527029e3ac",
   "metadata": {},
   "outputs": [],
   "source": []
  }
 ],
 "metadata": {
  "kernelspec": {
   "display_name": "Python [conda env:base] *",
   "language": "python",
   "name": "conda-base-py"
  },
  "language_info": {
   "codemirror_mode": {
    "name": "ipython",
    "version": 3
   },
   "file_extension": ".py",
   "mimetype": "text/x-python",
   "name": "python",
   "nbconvert_exporter": "python",
   "pygments_lexer": "ipython3",
   "version": "3.12.7"
  }
 },
 "nbformat": 4,
 "nbformat_minor": 5
}
